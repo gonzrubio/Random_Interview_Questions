{
 "cells": [
  {
   "cell_type": "markdown",
   "metadata": {},
   "source": [
    "# Balanced Brackets\n",
    "\n",
    "Given $n$ strings of brackets, determine whether each sequence of brackets is balanced. If a string is balanced, return YES. Otherwise, return NO.\n",
    "\n",
    "##### Input Format\n",
    "\n",
    "The first line contains a single integer , the number of strings.\n",
    "Each of the next  lines contains a single string , a sequence of brackets.\n",
    "\n",
    "3\n",
    "{[()]}\n",
    "YES\n",
    "{[(])}\n",
    "NO\n",
    "{{[[(())]]}}\n",
    "YES\n",
    "\n",
    "##### Solution\n",
    "\n",
    "Each time, when an open parentheses is encountered push it in the stack, and when closed parenthesis is encountered, match it with the top of stack and pop it. If stack is empty at the end, return Balanced otherwise, Unbalanced."
   ]
  },
  {
   "cell_type": "code",
   "execution_count": 9,
   "metadata": {},
   "outputs": [
    {
     "name": "stdout",
     "output_type": "stream",
     "text": [
      "3\n",
      "{[()]}\n",
      "YES\n",
      "{[(])}\n",
      "NO\n",
      "{{[[(())]]}}\n",
      "YES\n"
     ]
    }
   ],
   "source": [
    "def isBalanced():\n",
    "    \n",
    "    stack = [] # Empty stack.\n",
    "    brackets = input() # Sequence of brackets to check.\n",
    "    \n",
    "    for bracket in brackets :\n",
    "        if bracket in openList :\n",
    "            stack.append(bracket) # Push Open brackets to the top of stack.\n",
    "        elif bracket in closeList :\n",
    "            idx = closeList.index(bracket)\n",
    "            # Non-empty stack and item at top of stack is the corresponding open bracket .\n",
    "            if (len(stack) > 0) and (openList[idx] == stack[len(stack)-1]) :\n",
    "                stack.pop()\n",
    "            else : \n",
    "                return False\n",
    "    \n",
    "    return True\n",
    "\n",
    "\n",
    "\n",
    "def solve():\n",
    "    # The number of strings to check.\n",
    "    for i in range(int(input())):\n",
    "        if isBalanced() :\n",
    "            print('YES')\n",
    "        else:\n",
    "            print('NO')\n",
    "\n",
    "openList = [\"[\",\"{\",\"(\"] \n",
    "closeList = [\"]\",\"}\",\")\"]             \n",
    "solve()    \n",
    "\n",
    "# Python3 code to Check for  \n",
    "# balanced parentheses in an expression Using queues\n",
    "def check(expression): \n",
    "      \n",
    "    open_tup = tuple('({[') \n",
    "    close_tup = tuple(')}]') \n",
    "    map = dict(zip(open_tup, close_tup)) \n",
    "    queue = [] \n",
    "  \n",
    "    for i in expression: \n",
    "        if i in open_tup: \n",
    "            queue.append(map[i]) \n",
    "        elif i in close_tup: \n",
    "            if not queue or i != queue.pop(): \n",
    "                return \"Unbalanced\"\n",
    "    return \"Balanced\""
   ]
  }
 ],
 "metadata": {
  "kernelspec": {
   "display_name": "Python 3",
   "language": "python",
   "name": "python3"
  },
  "language_info": {
   "codemirror_mode": {
    "name": "ipython",
    "version": 3
   },
   "file_extension": ".py",
   "mimetype": "text/x-python",
   "name": "python",
   "nbconvert_exporter": "python",
   "pygments_lexer": "ipython3",
   "version": "3.7.1"
  }
 },
 "nbformat": 4,
 "nbformat_minor": 2
}
