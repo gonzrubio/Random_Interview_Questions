{
 "cells": [
  {
   "cell_type": "markdown",
   "metadata": {},
   "source": [
    "# Identify the most popular N feature requests out of a list of features and possible features.\n",
    "\n",
    "##### Input\n",
    "* numFeatures - integer representing the number of possible feautres\n",
    "* topFeatures - an integer representing the number of top features that function returns \n",
    "* (N)\n",
    "* possibleFeatures - a list of single-word strings representing possible features\n",
    "* numFeatureRequest - an integer representing the number of feature requests\n",
    "* futureRequests - a list of strings where each element is a string that consists of space separated words representing feature requests.\n",
    "\n",
    "##### Output\n",
    "A list of strings representing a list of strings of the most popular N feature requests in order of most to least frequently mentioned.\n",
    "\n",
    "##### Note\n",
    "* comparisson of strings is case sensitive\n",
    "* if value of topFeatures > number of possible features, return the names of only the features mentioned in the feature requests.\n",
    "* Multiple occurrence of a feature in a quote should be considered as a single mention.\n",
    "* If features are mentioned an equal number of times in feature requests, sort alphabetically\n",
    "\n",
    "##### Example\n",
    "Input :\n",
    "* numFeatures = 6\n",
    "* topFeatures = 2\n",
    "* possibleFeatures = [\"storage\", \"battery\", \"hover\", \"alexa\", \"waterpoof\", \"solar\"]\n",
    "* numFeatureRequests = 7\n",
    "* featureRequests = [\"I wish my kinlde had een more storage!\", \"Iwish the battery life on my kindle lasted 2 years\", \"I read in the bath and would enjoy a waterpoof kindle\",\"Waterproof and increased battery are my top two requests\",\"Iwant to take my Kindle into the shower. Waterproof please waterproof!\", \"it would be neat if my kindle would hover over my desk when not in use\",\"How cool would it be if my Kindle charged in the sun via solar power?\"]\n",
    "\n",
    "Output :\n",
    "[\"waterproof\", \"battery\"]"
   ]
  },
  {
   "cell_type": "code",
   "execution_count": 41,
   "metadata": {},
   "outputs": [
    {
     "name": "stdout",
     "output_type": "stream",
     "text": [
      "['battery', 'solar']\n"
     ]
    }
   ],
   "source": [
    "numFeatures = 6\n",
    "topFeatures = 2\n",
    "possibleFeatures = [\"storage\", \"battery\", \"hover\", \"alexa\", \"waterpoof\", \"solar\"]\n",
    "numFeatureRequests = 7\n",
    "featureRequests = [\"I wish my kinlde had een more storage!\", \"I wish the battery life on my kindle lasted 2 years\", \"I read in the bath and would enjoy a waterpoof kindle\",\"Waterproof and increased battery are my top two requests\",\"Iwant to take my Kindle into the shower. Waterproof please waterproof!\", \"it would be neat if my kindle would hover over my desk when not in use\",\"How cool would it be if my Kindle charged in the sun via solar power?\"]\n",
    "\n",
    "# Make possible features dictionary to count occurences\n",
    "featuresDict = dict.fromkeys(possibleFeatures , 0)\n",
    "\n",
    "# Need to modify to not count more than occurrence in single request.\n",
    "# Need to modify to deal with punctuation ie. exclamation marks.\n",
    "# split() returns list of all the words in the string \n",
    "for request in featureRequests :\n",
    "    for word in request.split() :\n",
    "        # Do not conver word to lower/upper case since comparisson IS case-sensitive.\n",
    "        if word in featuresDict :\n",
    "            featuresDict[word] += 1\n",
    "    \n",
    "sortedfeatures = sorted(featuresDict.items(), key=lambda item: item[1])\n",
    "maxRequests = [sortedfeatures[-1][0],sortedfeatures[-2][0]]\n",
    "\n",
    "\n",
    "print(maxRequests)\n",
    "# Need to modify for equal counts to sort alphabetically\n",
    "    \n"
   ]
  },
  {
   "cell_type": "code",
   "execution_count": 31,
   "metadata": {},
   "outputs": [
    {
     "data": {
      "text/plain": [
       "[]"
      ]
     },
     "execution_count": 31,
     "metadata": {},
     "output_type": "execute_result"
    }
   ],
   "source": [
    "def popularNFeatures(numFeatures, topFeatures, possibleFeatures, \n",
    "                     numFeatureRequests, featureRequests):\n",
    "    # WRITE YOUR CODE HERE\n",
    "    # Make possible features dictionary to count occurences\n",
    "    featuresDict = dict.fromkeys(possibleFeatures , 0)\n",
    "    \n",
    "    # Need to modify to not count more than occurrence in single request.\n",
    "    # Need to modify to deal with punctuation ie. exclamation marks.\n",
    "    # split() returns list of all the words in the string \n",
    "    for request in featureRequests :\n",
    "        for word in request.split() :\n",
    "            # Do not conver word to lower/upper case since comparisson IS case-sensitive.\n",
    "            if word in featuresDict :\n",
    "                featuresDict[word] += 1\n",
    "        \n",
    "    sortedfeatures = sorted(featuresDict.items(), key=lambda item: item[1])\n",
    "    \n",
    "    # Need to modify for equal counts to sort alphabetically\n",
    "    return sortedfeatures[-1:-2]\n",
    "\n",
    "popularNFeatures(numFeatures, topFeatures, possibleFeatures, \n",
    "                     numFeatureRequests, featureRequests)"
   ]
  },
  {
   "cell_type": "markdown",
   "metadata": {},
   "source": [
    "# Minimum number of days required to push the update to all the available servers.\n",
    "\n",
    "There is a 2D grid of cell towers. All serves need to be uodated to the latest software version. Servers that already have the update should not be updated again. Servers are in the form of a 2D array of 0 and 1 where the value 0 represents and out of date server and the value 1 represents an updated server.\n",
    "\n",
    "An adjacent server is either on the left, right, above or below a given server, not diagonal servers. Once the server receives the update, it becomes updated and can push the update to its adjacent servers on the following day. Given the 2D array representing the current status of its servers, write an algo that will determine the minimum number of days required to push the update to all the available servers.\n",
    "\n",
    "##### Input\n",
    "* rows - an integer representing the number of rows in the grid\n",
    "* columns - an integer representing the number of columns in the grid.\n",
    "* The value 0 menas out of date server and 1 means updated server.\n",
    "\n",
    "##### Output\n",
    "An integer representing the minumim number of days required to update all the servers in the grid network. Return -1 if all the avilable servers cannot be updated.\n",
    "\n",
    "##### Example\n",
    "rows = 4\n",
    "columns = 5\n",
    "grid = [[0,1,1,0,1],[0,1,0,1,0],[0,0,0,0,1],[0,1,0,0,0]]\n",
    "\n",
    "Output: 2"
   ]
  },
  {
   "cell_type": "code",
   "execution_count": 96,
   "metadata": {},
   "outputs": [
    {
     "name": "stdout",
     "output_type": "stream",
     "text": [
      "[[0 1 1 0 1]\n",
      " [0 1 0 1 0]\n",
      " [0 0 0 0 1]\n",
      " [0 1 0 0 0]]\n",
      "[[0 1 1 0 1]\n",
      " [0 1 0 1 0]\n",
      " [0 0 0 0 1]\n",
      " [0 1 0 0 0]]\n",
      "[[1 1 1 1 1]\n",
      " [1 1 1 1 1]\n",
      " [1 1 1 1 1]\n",
      " [1 1 1 1 1]]\n",
      "[[1 1 1 1 1]\n",
      " [1 1 1 1 1]\n",
      " [1 1 1 1 1]\n",
      " [1 1 1 1 1]]\n"
     ]
    }
   ],
   "source": [
    "rows = 4\n",
    "columns = 5\n",
    "grid = [[0,1,1,0,1],[0,1,0,1,0],[0,0,0,0,1],[0,1,0,0,0]]\n",
    "\n",
    "import numpy as np\n",
    "\n",
    "# Might be easier to work with numpy array since allows for matrix treatment of list of lists with numerical value.\n",
    "grid = np.array(grid)\n",
    "print(grid)\n",
    "\n",
    "# The state of the grid for the next day\n",
    "nextDay = grid[:]\n",
    "print(nextDay)\n",
    "\n",
    "# Compare state of current grid and fully updated grid\n",
    "#comparison = grid == np.zeros(grid.shape)\n",
    "#while not comparison.all():\n",
    "\n",
    "# Initialize day count\n",
    "days = 0\n",
    "\n",
    "# Iterate all grid cell by cell and push update where possible.\n",
    "for i in range(np.size(grid,0)) :\n",
    "    for j in range(np.size(grid,1)) :\n",
    "        \n",
    "        # Check if current cell tower is updated. Otherwise skip to next cell.\n",
    "        if grid[i,j] == 1 :\n",
    "            \n",
    "            # Check if column is not an edge and can push update. If not, it can update left and right (columns).\n",
    "            if 0 < j < np.size(grid,1)-1 and grid[i,j] == 1 :\n",
    "                nextDay[i,j-1] = 1\n",
    "                nextDay[i,j+1] = 1\n",
    "            # Check if column is an edge and can push update. If so, it can update left or right (columns).\n",
    "            elif j == 0 and grid[i,j] == 1 :\n",
    "                nextDay[i,j+1] = 1\n",
    "            elif j == np.size(grid,1)-1 and grid[i,j] == 1 :\n",
    "                nextDay[i,j-1] = 1\n",
    "            \n",
    "            # Check if row is not an edge and can push update. If not, it can update above and below (rows).\n",
    "            if 0 < i < np.size(grid,0)-1 and grid[i,j] == 1 :\n",
    "                nextDay[i-1,j] = 1\n",
    "                nextDay[i+1,j] = 1\n",
    "            # Check if row is an edge and can push update. If so, it can update above and below (rows).\n",
    "            elif i == 0 and grid[i,j] == 1 :\n",
    "                nextDay[i+1,j] = 1\n",
    "            elif i == np.size(grid,0)-1 and grid[i,j] == 1 :\n",
    "                nextDay[i-1,j] = 1    \n",
    "        \n",
    "        # If tower cant push update move to the next tower.\n",
    "        else :\n",
    "            continue\n",
    "\n",
    "            \n",
    "days += 1\n",
    "print(grid)\n",
    "print(nextDay)\n",
    "\n",
    "#grid = nextDay[:]"
   ]
  },
  {
   "cell_type": "code",
   "execution_count": 97,
   "metadata": {},
   "outputs": [
    {
     "name": "stdout",
     "output_type": "stream",
     "text": [
      "Once deleted, variables cannot be recovered. Proceed (y/[n])? y\n"
     ]
    }
   ],
   "source": [
    "%reset"
   ]
  },
  {
   "cell_type": "code",
   "execution_count": 93,
   "metadata": {},
   "outputs": [
    {
     "data": {
      "text/plain": [
       "5"
      ]
     },
     "execution_count": 93,
     "metadata": {},
     "output_type": "execute_result"
    }
   ],
   "source": [
    "np.size(grid,1)"
   ]
  },
  {
   "cell_type": "code",
   "execution_count": 85,
   "metadata": {},
   "outputs": [
    {
     "name": "stdout",
     "output_type": "stream",
     "text": [
      "[[0 1 1 0 1]\n",
      " [0 1 0 1 0]\n",
      " [0 0 0 0 1]\n",
      " [0 1 0 0 0]]\n"
     ]
    }
   ],
   "source": [
    "print(grid)"
   ]
  },
  {
   "cell_type": "code",
   "execution_count": null,
   "metadata": {},
   "outputs": [],
   "source": [
    "def minimumDays(rows, columns, grid):\n",
    "    import numpy as np\n",
    "    \n",
    "    # Might be easier to work with numpy array since allows for matrix treatment of list of lists with numerical value.\n",
    "    grid = np.array(grid)\n",
    "    \n",
    "    # The state of the grid for the next day\n",
    "    nextDay = grid[:]\n",
    "    \n",
    "    # Initialize day count\n",
    "    days = 0\n",
    "    # Compare state of current grid and fully updated grid\n",
    "    comparison = grid == np.zeros(grid.shape)\n",
    "    while not comparison.all():\n",
    "    \n",
    "        \n",
    "        # Iterate all grid cell by cell and push update where possible.\n",
    "        for i in range(np.size(grid,0)) :\n",
    "            for j in range(np.size(grid,1)) :\n",
    "                \n",
    "                # Check if current cell tower is updated. Otherwise skip to next cell.\n",
    "                if grid[i,j] == 1 :\n",
    "                    \n",
    "                    # Check if column is not an edge and can push update. If not, it can update left and right (columns).\n",
    "                    if 0 < j < np.size(grid,1)-1 and grid[i,j] == 1 :\n",
    "                        nextDay[i,j-1] = 1\n",
    "                        nextDay[i,j+1] = 1\n",
    "                    # Check if column is an edge and can push update. If so, it can update left or right (columns).\n",
    "                    elif j == 0 and grid[i,j] == 1 :\n",
    "                        nextDay[i,j+1] = 1\n",
    "                    elif j == np.size(grid,1)-1 and grid[i,j] == 1 :\n",
    "                        nextDay[i,j-1] = 1\n",
    "                    \n",
    "                    # Check if row is not an edge and can push update. If not, it can update above and below (rows).\n",
    "                    if 0 < i < np.size(grid,0)-1 and grid[i,j] == 1 :\n",
    "                        nextDay[i-1,j] = 1\n",
    "                        nextDay[i+1,j] = 1\n",
    "                    # Check if row is an edge and can push update. If so, it can update above and below (rows).\n",
    "                    elif i == 0 and grid[i,j] == 1 :\n",
    "                        nextDay[i+1,j] = 1\n",
    "                    elif i == np.size(grid,0)-1 and grid[i,j] == 1 :\n",
    "                        nextDay[i-1,j] = 1    \n",
    "                \n",
    "                # If tower cant push update move to the next tower.\n",
    "                else :\n",
    "                    continue\n",
    "                \n",
    "        days += 1\n",
    "        comparison = grid == np.zeros(grid.shape)\n",
    "        gid = nextDay[:]\n",
    "\n",
    "    return days"
   ]
  },
  {
   "cell_type": "code",
   "execution_count": 16,
   "metadata": {},
   "outputs": [
    {
     "name": "stdout",
     "output_type": "stream",
     "text": [
      "There are 93.39 calories per 100 grams.\n",
      "There are 100 calories in 0.08 servings.\n"
     ]
    }
   ],
   "source": [
    "# Weight (g)\n",
    "W = 1210\n",
    "\n",
    "# Calories (cal)\n",
    "C = 1130\n",
    "\n",
    "# calories/100 g\n",
    "CalHundo = (100/W)*C\n",
    "print('There are ' + str(round(CalHundo,2)) + ' calories per 100 grams.')\n",
    "\n",
    "# Serving size per 100 cals\n",
    "servingHundo = CalHundo/C\n",
    "print('There are 100 calories in ' + str(round(servingHundo,2)) + ' servings.')"
   ]
  }
 ],
 "metadata": {
  "kernelspec": {
   "display_name": "Python 3",
   "language": "python",
   "name": "python3"
  },
  "language_info": {
   "codemirror_mode": {
    "name": "ipython",
    "version": 3
   },
   "file_extension": ".py",
   "mimetype": "text/x-python",
   "name": "python",
   "nbconvert_exporter": "python",
   "pygments_lexer": "ipython3",
   "version": "3.7.1"
  }
 },
 "nbformat": 4,
 "nbformat_minor": 2
}
