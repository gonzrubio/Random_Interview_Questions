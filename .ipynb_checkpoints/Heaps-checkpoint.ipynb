{
 "cells": [
  {
   "cell_type": "markdown",
   "metadata": {},
   "source": [
    "# Running Median\n",
    "\n",
    "Given an input stream of  integers, you must perform the following task for each  integer:\n",
    "\n",
    "* Add the  integer to a running list of integers.\n",
    "* Find the median of the updated list (i.e., for the first element through the  element).\n",
    "* Print the list's updated median on a new line. The printed value must be a double-precision number scaled to  decimal place (i.e.,  format).\n",
    "\n",
    "The algorithm goes like this: for each value, put it to an appropriate heap and 'rebalance' the heaps so that their size is not different by more than 1. Then, to get the median, just pull out the first element from the bigger heap, or take an average of the first elements of the two heaps if they are of equal size."
   ]
  },
  {
   "cell_type": "code",
   "execution_count": 1,
   "metadata": {},
   "outputs": [
    {
     "name": "stdout",
     "output_type": "stream",
     "text": [
      "3.0\n",
      "2.5\n",
      "2.0\n"
     ]
    }
   ],
   "source": [
    "# Heaps are a good approach because they are priority queues.\n",
    "# To get the running median we only need three values at most. \n",
    "# 1) The middle of the running array if we have odd number\n",
    "# 2,3) The immediate higher and lower if array is even.\n",
    "\n",
    "\n",
    "import heapq\n",
    "\n",
    "def runningMedian(array):\n",
    "\n",
    "    # Lower and Higher halves of the data sample.\n",
    "    L, H = [],[]\n",
    "\n",
    "    for element in array :\n",
    "\n",
    "        # If Heap is empty, push the first element.\n",
    "        if not H :\n",
    "            heapq.heappush(H,element)\n",
    "\n",
    "        # Otherwise put it into the appropriate heap and rebalance them.\n",
    "        else :\n",
    "\n",
    "            # Case 1: Higher heap is longer than Lower heap.\n",
    "            if len(H) > len(L) :\n",
    "\n",
    "                # Case a: New element is larger than top of Higher heap. If so need to push and pop Higher heap.\n",
    "                if H[0] < element :\n",
    "                    # Push new element and pop smallest element of Higher heap.\n",
    "                    temp = heapq.heappushpop(H, element)\n",
    "                    # Push this new element to Lower heap as a maximum heap (largest value at top).\n",
    "                    heapq.heappush(L,-temp)\n",
    "\n",
    "                # Case b: New element is smaller than top of heap (belongs to bottom heap).\n",
    "                # Heaps are now of equal length.\n",
    "                else :\n",
    "                    heapq.heappush(L, -element)\n",
    "\n",
    "            # Case 2: Both heaps are the same length\n",
    "            else :\n",
    "\n",
    "                # case a: New element is smaller than absolute value of first number in lower heap.\n",
    "                if element < -L[0] :\n",
    "                    # Push element into lower heap (remember max heap) and pop last element in Lower heap.\n",
    "                    temp = -heapq.heappushpop(L,-element)\n",
    "                    heapq.heappush(H, temp)\n",
    "\n",
    "                # case b: New element is bigger than absolute value of first number in lower heap. Put in Higher heap.\n",
    "                else :\n",
    "                    heapq.heappush(H,element)\n",
    "\n",
    "        if len(H) > len(L) :\n",
    "            print('%.1f' % H[0])\n",
    "        else :\n",
    "            print('%.1f' % (0.5*(H[0]-L[0])))\n",
    "            \n",
    "            \n",
    "\n",
    "runningMedian([3,2,1])"
   ]
  }
 ],
 "metadata": {
  "kernelspec": {
   "display_name": "Python 3",
   "language": "python",
   "name": "python3"
  },
  "language_info": {
   "codemirror_mode": {
    "name": "ipython",
    "version": 3
   },
   "file_extension": ".py",
   "mimetype": "text/x-python",
   "name": "python",
   "nbconvert_exporter": "python",
   "pygments_lexer": "ipython3",
   "version": "3.7.1"
  }
 },
 "nbformat": 4,
 "nbformat_minor": 4
}
