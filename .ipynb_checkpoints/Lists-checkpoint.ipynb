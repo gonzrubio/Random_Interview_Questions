{
 "cells": [
  {
   "cell_type": "markdown",
   "metadata": {},
   "source": [
    "# Merge lists and sort"
   ]
  },
  {
   "cell_type": "code",
   "execution_count": 37,
   "metadata": {},
   "outputs": [
    {
     "name": "stdout",
     "output_type": "stream",
     "text": [
      "['three', 'six', 'one']\n"
     ]
    }
   ],
   "source": [
    "def merge_lists(og, add, delete):\n",
    "    ''' Merge inputs into a single list.\n",
    "    List shall only contain unique values.\n",
    "    List shall be ordered as follows:\n",
    "        - Most character count to least character count.\n",
    "        - In the event of a tie, reverse alphabetical. '''\n",
    "    \n",
    "    for element in add:\n",
    "        if element not in og:\n",
    "            og.append(element)\n",
    "                \n",
    "    for element in delete:\n",
    "        if element in og:\n",
    "            og.remove(element)\n",
    "        \n",
    "    return sorted(og, key=lambda element: (len(element), element), reverse=True)\n",
    "\n",
    "Original = ['one', 'two', 'three',]\n",
    "Add = ['one', 'two', 'five', 'six']\n",
    "Delete = ['two', 'five']\n",
    "Result = ['three', 'six', 'one']\n",
    "\n",
    "print(merge_lists(Original, Add, Delete))"
   ]
  },
  {
   "cell_type": "markdown",
   "metadata": {},
   "source": [
    "# Houses status\n",
    "\n",
    "Eight houses represented as cells, are arranged in a streiaght line. Each day every cell competes with its adjacent cells (neighbours). An interger value of 1 represents and active cell and a value of zero represents and inactive cell. If the neighors on both the sides of a cell are either active or inactive, the cell becomes inactive on the next day; otherwise the cell becomes active. The two cells on each end have a single adjacent cell, so assume that the unoccupied space on the opposite side is an inactive cell. Even after updating the cell state, consider its previous state when updating the state of the other cells. The state information of a cell should be updated simultaneously.\n",
    "\n",
    "Write an algorithm to update the state of the cells after a given number of days.\n",
    "\n",
    "##### Input\n",
    "* states - a list of integers representing the current state of cells (0's and 1's only).\n",
    "* days - an integer representing the number of days.\n",
    "\n",
    "##### Output\n",
    "Return a list of integers representing the state of the cells after the given number of days.\n",
    "\n",
    "##### Test cases\n",
    "* [1,0,0,0,0,1,0,0],1 -> 0 1 0 0 1 0 1 0\n",
    "* [1,1,1,0,1,1,1,1],2 -> 0 0 0 0 0 1 1 0"
   ]
  },
  {
   "cell_type": "code",
   "execution_count": 1,
   "metadata": {},
   "outputs": [
    {
     "data": {
      "text/plain": [
       "[0, 0, 0, 0, 0, 1, 1, 0]"
      ]
     },
     "execution_count": 1,
     "metadata": {},
     "output_type": "execute_result"
    }
   ],
   "source": [
    "def computeStates(states,days):\n",
    "\n",
    "    for day in range(days):\n",
    "\n",
    "        tomorrow = [0] * len(states)\n",
    "        if states[1] == 0 :\n",
    "            tomorrow[0] = 0\n",
    "        elif states[-2] == 0 :\n",
    "            tomorrow[-1] = 0\n",
    "        else :\n",
    "            tomorrow[0] = 1\n",
    "            tomorrow[-1] = 1\n",
    "\n",
    "        for i in range(1,len(states)-1):\n",
    "\n",
    "                if (states[i-1] - states[i+1] == 0) :\n",
    "                    tomorrow[i] = 0\n",
    "                else :\n",
    "                    tomorrow[i] = 1\n",
    "\n",
    "        states = tomorrow[:]\n",
    "        \n",
    "    return states\n",
    "    \n",
    "            \n",
    "#states = [1,0,0,0,0,1,0,0]\n",
    "states = [1,1,1,0,1,1,1,1]\n",
    "\n",
    "\n",
    "#days = 1\n",
    "days = 2\n",
    "        \n",
    "computeStates(states,days)"
   ]
  }
 ],
 "metadata": {
  "kernelspec": {
   "display_name": "Python 3",
   "language": "python",
   "name": "python3"
  },
  "language_info": {
   "codemirror_mode": {
    "name": "ipython",
    "version": 3
   },
   "file_extension": ".py",
   "mimetype": "text/x-python",
   "name": "python",
   "nbconvert_exporter": "python",
   "pygments_lexer": "ipython3",
   "version": "3.7.1"
  }
 },
 "nbformat": 4,
 "nbformat_minor": 4
}
